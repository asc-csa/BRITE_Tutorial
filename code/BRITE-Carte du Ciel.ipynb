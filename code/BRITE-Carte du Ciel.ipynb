{
 "cells": [
  {
   "cell_type": "markdown",
   "metadata": {},
   "source": [
    "# BRITE Constellation - Carte du Ciel\n",
    "---\n",
    "**Tutoriel :** Le script Python suivant utilise des données de l'archive publique des courbes de lumière BRITE-Constellation pour aider les utilisateurs à tracer les coordonnées célestes fournies dans l'en-tête du fichier. Ce qui suit détaillera comment extraire les coordonnées (comme fait dans le tutoriel principal de BRITE Constellation) et les tracer sur une carte du ciel.\n",
    "\n",
    "**Mission et Instrument :** BRITE-Constellation, les données de ce tutoriel sont prises par le nanosatellite BRITE-Austria\n",
    "\n",
    "**À propos de la Mission :** La mission BRITE-Constellation se compose de cinq nanosatellites BRIght Target Explorer (BRITE) (trois sont actifs en septembre 2023). Chacun des pays suivants a construit deux satellites : l'Autriche, le Canada et la Pologne. Les six nanosatellites devaient être lancés entre février 2013 et août 2014. Cependant, BRITE-Montreal n'a jamais pu être lancé, donc seulement 5 des 6 étaient opérationnels. L'objectif de la mission est de collecter des données en utilisant la photométrie optique pour en apprendre davantage sur la structure stellaire, l'évolution et les interactions avec l'environnement environnant. Plus d'informations peuvent être trouvées ici : https://brite-constellation.at/.\n",
    "\n",
    "**Exigences Système :** Accès à Internet, Python Version 3.9 ou supérieure\n",
    "\n",
    "**Niveau du Tutoriel** : Intermédiaire\n",
    "\n",
    "---\n",
    "\n",
    "**Remerciements** : Basé sur des données collectées par la mission satellite BRITE Constellation, conçue, construite, lancée, exploitée et soutenue par l'Agence autrichienne de promotion de la recherche (FFG), l'Université de Vienne, l'Université technique de Graz, l'Agence spatiale canadienne (ASC), l'Institut d'études aérospatiales de l'Université de Toronto (UTIAS), la Fondation pour la science et la technologie polonaises (FNiTP MNiSW), et le Centre national des sciences (NCN).\n",
    "\n",
    "**Crédits** : Le diagramme d'atlas du ciel utilisé dans ce tutoriel a été créé par Richard Powell du site web [An Atlas of The Universe](http://www.atlasoftheuniverse.com/index.html) et est sous licence Creative Commons Attribution-ShareAlike 2.5. Plus d'informations peuvent être lues [ici](http://www.atlasoftheuniverse.com/copyright.html). L'image du Fond Diffus Cosmologique (CMB) a été prise par le satellite Planck de l'Agence Spatiale Européenne."
   ]
  },
  {
   "cell_type": "markdown",
   "metadata": {},
   "source": [
    "**Note : Les coordonnées fournies sont de la zone générale/champ où l'étoile est située et non de l'étoile elle-même.** \\\n",
    "De plus, la précision de ces coordonnées est incertaine."
   ]
  },
  {
   "cell_type": "code",
   "execution_count": null,
   "metadata": {},
   "outputs": [],
   "source": [
    "#Import libraries\n",
    "from astropy.coordinates import SkyCoord, Galactic\n",
    "from astropy.visualization import astropy_mpl_style\n",
    "from imageio.v2 import imread\n",
    "import matplotlib.pyplot as plt\n",
    "import numpy as np\n",
    "import os\n",
    "import pandas as pd"
   ]
  },
  {
   "cell_type": "markdown",
   "metadata": {},
   "source": [
    "#### Entrées Utilisateur"
   ]
  },
  {
   "cell_type": "code",
   "execution_count": null,
   "metadata": {},
   "outputs": [],
   "source": [
    "#Name of downloaded .dat file, change this to the file you have saved <str>\n",
    "# Remember to include the \".dat\" at the end\n",
    "FileName = \"HD31237_01-Ori-I-2013_BAb_setup3_APa2s5_DR2.dat\"\n",
    "\n",
    "#Define the desired project <str>\n",
    "# 'aitoff' is the recommended projection\n",
    "proj = \"aitoff\"\n",
    "\n",
    "#Parameters for plot <int>\n",
    "X = 13       # Width of the graph\n",
    "Y = 10       # Height of the graph"
   ]
  },
  {
   "cell_type": "markdown",
   "metadata": {},
   "source": [
    "### Extraire les Données\n",
    "Commencez par extraire le nom de l'étoile et les coordonnées célestes de l'en-tête du fichier de courbe de lumière.\n",
    "\n",
    "**Coordonnées célestes :** Notre système de coordonnées de longitude et latitude est géocentrique (ou géocentrique) et ne peut donc pas être appliqué aux étoiles ou planètes. Au lieu de cela, un système de coordonnées célestes a été développé qui utilise l'*ascension droite (RA)* à la place de la longitude et la *déclinaison (DEC)* à la place de la latitude."
   ]
  },
  {
   "cell_type": "code",
   "execution_count": null,
   "metadata": {},
   "outputs": [],
   "source": [
    "Path = os.path.realpath(FileName)\n",
    "DataFrame = pd.read_csv(Path, sep = \" ,\", on_bad_lines = 'skip', engine = \"python\", header = None)\n",
    "\n",
    "# Print Info About Dataset / Print Dataset Header\n",
    "print (\"Header Information\")\n",
    "print (pd.DataFrame(DataFrame.iloc[:37]).to_markdown())\n",
    "\n",
    "print ()\n",
    "print (\"Data Information\")\n",
    "print (pd.DataFrame(DataFrame.iloc[37:46]).to_markdown())\n",
    "print ()\n",
    "# Extract name of star\n",
    "StarInfo = DataFrame.iloc[6]\n",
    "StarInfo['new'] = StarInfo.str.split(',').str[0]   \n",
    "for i in ((np.array(StarInfo['new']))):\n",
    "    s1 = slice(12, len(i))\n",
    "    StarName = i[s1]\n",
    "print (\"The name of the star is\", StarName)\n",
    "\n",
    "#Extract RA (Right Acension) and DEC (Declination) of the field (also known as the celestial coordinates)\n",
    "RA_Info = DataFrame.iloc[8]\n",
    "DEC_Info = DataFrame.iloc[9]\n",
    "\n",
    "RA_Info['new'] = RA_Info.str.split('/').str[0] \n",
    "for i in (np.array(RA_Info['new'])):\n",
    "    s1 = slice(13, len(i))\n",
    "    RA = float(i[s1]) #value of right acension/RA\n",
    "\n",
    "DEC_Info['new'] = DEC_Info.str.split('/').str[0] \n",
    "for i in (np.array(DEC_Info['new'])):\n",
    "    s1 = slice(13, len(i))\n",
    "    DEC = float(i[s1]) #value of declination/DEC\n",
    "print (\"The field celestial coordinates are, right acension (RA) is \", RA,\" and the declination (DEC) is\", DEC ,\" in degrees\")"
   ]
  },
  {
   "cell_type": "markdown",
   "metadata": {},
   "source": [
    "### Tracer les Coordonnées Célestes\n",
    "D'abord, nous tracerons sur un atlas du ciel."
   ]
  },
  {
   "cell_type": "code",
   "execution_count": null,
   "metadata": {},
   "outputs": [],
   "source": [
    "## Function for converting right ascenion (RA)\n",
    "def convert_coords (ra):\n",
    "    \"\"\" Converts the provided coordinate given in radians to be usable on a sky map for plotting. \n",
    "        Preferable for x-coordinate/longitude/right ascencion. Y-coordinates/latitude/declination does not\n",
    "        need to be converted. \n",
    "\n",
    "    :param ra: the provided right ascension coordinate in radians\n",
    "    :type ra: float\n",
    "    \n",
    "    :returns ra_convert: the converted coordinates for right ascenion in radians\n",
    "    :rtype ra_convert: float\"\"\"\n",
    "\n",
    "    # Convert the right ascenion to allow it to wrap around map\n",
    "    ra_convert = 0\n",
    "    if ra > (np.pi):\n",
    "        ra_convert = -1 * ((ra % (np.pi)) - (np.pi)) \n",
    "    else:\n",
    "        ra_convert = -1 * ra\n",
    "    \n",
    "    return (ra_convert)"
   ]
  },
  {
   "cell_type": "code",
   "execution_count": null,
   "metadata": {},
   "outputs": [],
   "source": [
    "### Star Atlas Plot ####\n",
    "\n",
    "star_atlas_url = \"http://www.atlasoftheuniverse.com/galchart.gif\"\n",
    "\n",
    "#Initialize plot\n",
    "img = imread(star_atlas_url)\n",
    "plt.style.use(astropy_mpl_style)\n",
    "fig, ax = plt.subplots(1, 1, figsize=(15, 15))\n",
    "ax.imshow(img, alpha = 0.9)\n",
    "\n",
    "ax2 = fig.add_subplot(projection = \"aitoff\")\n",
    "\n",
    "#Implement object and convert to galactic units\n",
    "object = SkyCoord(RA, DEC, unit = 'deg')\n",
    "object_ra = (convert_coords(object.galactic.l.rad))\n",
    "object_dec = object.galactic.b.rad\n",
    "\n",
    "#Plot object\n",
    "ax2.plot(object_ra, object_dec, marker = 'o', markersize = 17, color = 'red', alpha = 0.6)\n",
    "ax2.text(object_ra, object_dec + 0.1, \"Field of \" + StarName, color = \"red\") #Add name of the star\n",
    "\n",
    "plt.axis(\"off\")\n",
    "ax.grid(False)\n",
    "ax.set_title(\"Visualization of \" + StarName + \"'s field on a star atlas\")\n",
    "ax.set_xticks([])\n",
    "ax.set_yticks([])\n",
    "plt.show()"
   ]
  },
  {
   "cell_type": "markdown",
   "metadata": {},
   "source": [
    "Maintenant, nous ferons un graphique sur une carte de l'univers avec le CMB en arrière-plan. Nous utiliserons une image créée par le satellite Planck de l'ESA."
   ]
  },
  {
   "cell_type": "code",
   "execution_count": null,
   "metadata": {},
   "outputs": [],
   "source": [
    "cmb_url = 'https://plancksatellite.org.uk/wp-content/uploads/sites/2/2019/09/PLANCK_FSM_03_cropped_0.png'\n",
    "\n",
    "#Initialize plot\n",
    "img = imread(cmb_url)\n",
    "plt.style.use(astropy_mpl_style)\n",
    "fig, ax = plt.subplots(1, 1, figsize=(15, 15))\n",
    "ax.imshow(img, alpha = 0.9)\n",
    "\n",
    "ax2 = fig.add_subplot(projection = \"aitoff\")\n",
    "\n",
    "#Implement object and convert to galactic units\n",
    "object = SkyCoord(RA, DEC, unit = 'deg')\n",
    "object_ra = convert_coords(object.galactic.l.rad)\n",
    "object_dec = object.galactic.b.rad\n",
    "\n",
    "#Plot object\n",
    "ax2.plot(object_ra, object_dec, marker = 'o', markersize = 17, color = 'red', alpha = 0.6)\n",
    "ax2.text(object_ra, object_dec + 0.1, \"Field of \" + StarName, color = \"red\")\n",
    "\n",
    "plt.axis(\"off\")\n",
    "ax.grid(False)\n",
    "ax.set_title(\"Visualization of \" + StarName + \"'s field on Planck Map\")\n",
    "ax.set_xticks([])\n",
    "ax.set_yticks([])\n",
    "plt.show()"
   ]
  },
  {
   "cell_type": "markdown",
   "metadata": {},
   "source": [
    "**Référence**\\\n",
    "Référence principale pour la carte du ciel. Le tutoriel suivant sur GitHub montre comment tracer des objets dans le ciel en utilisant le package ligo.skymap. Ceci est recommandé pour les utilisateurs Linux seulement.\\\n",
    "https://github.com/ashley-ferreira/WACO/blob/main/WACO_notebook.ipynb\n",
    "\n",
    "**Lecture Supplémentaire**\\\n",
    "Vous voulez en apprendre davantage sur le tracé de corps célestes ? L'article suivant montre d'autres approches.\\\n",
    "Medium : https://towardsdatascience.com/space-science-with-python-space-maps-747c7d1eaf7f?gi=0f2c97dcdbd9"
   ]
  }
 ],
 "metadata": {
  "kernelspec": {
   "display_name": "Python 3 (ipykernel)",
   "language": "python",
   "name": "python3"
  },
  "language_info": {
   "codemirror_mode": {
    "name": "ipython",
    "version": 3
   },
   "file_extension": ".py",
   "mimetype": "text/x-python",
   "name": "python",
   "nbconvert_exporter": "python",
   "pygments_lexer": "ipython3",
   "version": "3.9.16"
  }
 },
 "nbformat": 4,
 "nbformat_minor": 4
}
